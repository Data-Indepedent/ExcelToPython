{
 "cells": [
  {
   "cell_type": "markdown",
   "metadata": {},
   "source": [
    "# Part 2: Python Level 2 - Python Variables\n",
    "We'll go over different variable types and get a better feeling for how they work\n",
    "\n",
    "To start things off, variables are a way to hold objects or information.\n",
    "\n",
    "Here we are assigning the variable \"x\" the *number* 5"
   ]
  },
  {
   "cell_type": "code",
   "execution_count": null,
   "metadata": {},
   "outputs": [],
   "source": [
    "x = 5\n",
    "\n",
    "print (x)"
   ]
  },
  {
   "cell_type": "markdown",
   "metadata": {},
   "source": [
    "We could also assign a variable to a:\n",
    "1. String\n",
    "2. Boolean\n",
    "3. Number w/ decimal points\n",
    "4. A round number\n",
    "\n",
    "If you ever want to know what something is, you can print \"type(your variable)\"\n",
    "\n",
    "Think of type like formatting a cell in Excel"
   ]
  },
  {
   "cell_type": "code",
   "execution_count": null,
   "metadata": {},
   "outputs": [],
   "source": [
    "x = \"John\"\n",
    "print (x)\n",
    "print ()\n",
    "\n",
    "# is the same as\n",
    "x = 'John'\n",
    "print (x)"
   ]
  },
  {
   "cell_type": "code",
   "execution_count": null,
   "metadata": {},
   "outputs": [],
   "source": [
    "#Legal variable names:\n",
    "myvar = \"John\"\n",
    "my_var = \"John\"\n",
    "_my_var = \"John\"\n",
    "myVar = \"John\"\n",
    "MYVAR = \"John\"\n",
    "myvar2 = \"John\"\n",
    "\n",
    "#Illegal variable names:\n",
    "2myvar = \"John\"\n",
    "my-var = \"John\"\n",
    "my var = \"John\""
   ]
  },
  {
   "cell_type": "code",
   "execution_count": null,
   "metadata": {},
   "outputs": [],
   "source": [
    "x = 4 # x is of type int\n",
    "x = \"Sally\" # x is now of type str\n",
    "print(x)"
   ]
  },
  {
   "cell_type": "code",
   "execution_count": null,
   "metadata": {},
   "outputs": [],
   "source": [
    "x, y, z = \"Orange\", \"Banana\", \"Cherry\"\n",
    "print(x)\n",
    "print(y)\n",
    "print(z)"
   ]
  },
  {
   "cell_type": "code",
   "execution_count": null,
   "metadata": {},
   "outputs": [],
   "source": [
    "s = \"Hello World\"\n",
    "print (\"Variable s is:\", s)\n",
    "print (type(s))\n",
    "print()\n",
    "\n",
    "n = True\n",
    "print (\"Variable n is:\", n)\n",
    "print (type(n))\n",
    "print()\n",
    "\n",
    "variable_3 = 45.12\n",
    "print (\"Variable variable_3 is:\", variable_3)\n",
    "print (type(variable_3))\n",
    "print()\n",
    "\n",
    "v_4 = 54\n",
    "print (\"Variable v_4 is:\", v_4)\n",
    "print (type(v_4))\n",
    "print()"
   ]
  },
  {
   "cell_type": "markdown",
   "metadata": {},
   "source": [
    "Once variables are set, they can also be overwritten. This frequently happens"
   ]
  },
  {
   "cell_type": "code",
   "execution_count": null,
   "metadata": {},
   "outputs": [],
   "source": [
    "s = 54\n",
    "print (\"Variable s is:\", s)\n",
    "print (type(s))\n",
    "print()\n",
    "\n",
    "s = \"2nd String\"\n",
    "print (\"Variable s is:\", s)\n",
    "print (type(s))\n",
    "print()"
   ]
  },
  {
   "cell_type": "markdown",
   "metadata": {},
   "source": [
    "Think of variables like cell references within Excel. You place a value in a cell, then reference that cell (like =A2), from somewhere else. Storing a variable in a cell helps you use it in many places later."
   ]
  },
  {
   "cell_type": "code",
   "execution_count": null,
   "metadata": {},
   "outputs": [],
   "source": [
    "x = 5\n",
    "\n",
    "math_result = x*2 + x/3 + x**2\n",
    "\n",
    "print (math_result)"
   ]
  }
 ],
 "metadata": {
  "kernelspec": {
   "display_name": "Python 3",
   "language": "python",
   "name": "python3"
  },
  "language_info": {
   "codemirror_mode": {
    "name": "ipython",
    "version": 3
   },
   "file_extension": ".py",
   "mimetype": "text/x-python",
   "name": "python",
   "nbconvert_exporter": "python",
   "pygments_lexer": "ipython3",
   "version": "3.7.6"
  }
 },
 "nbformat": 4,
 "nbformat_minor": 4
}
